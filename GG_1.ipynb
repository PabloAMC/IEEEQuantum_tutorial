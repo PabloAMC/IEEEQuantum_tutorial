{
 "cells": [
  {
   "cell_type": "code",
   "execution_count": 1,
   "id": "1f0c55f1-77c6-44aa-9405-85e20d61de37",
   "metadata": {},
   "outputs": [
    {
     "name": "stderr",
     "output_type": "stream",
     "text": [
      "/opt/conda/lib/python3.8/site-packages/qiskit/aqua/__init__.py:86: DeprecationWarning: The package qiskit.aqua is deprecated. It was moved/refactored to qiskit-terra For more information see <https://github.com/Qiskit/qiskit-aqua/blob/main/README.md#migration-guide>\n",
      "  warn_package('aqua', 'qiskit-terra')\n"
     ]
    }
   ],
   "source": [
    "%matplotlib inline\n",
    "# Importing standard Qiskit libraries and configuring account\n",
    "from qiskit import QuantumCircuit, execute, Aer, IBMQ\n",
    "from qiskit.compiler import transpile, assemble\n",
    "#from qiskit.tools.jupyter import *\n",
    "#from qiskit.visualization import *\n",
    "# Loading your IBM Q account(s)\n",
    "provider = IBMQ.load_account()\n",
    "\n",
    "from qiskit import QuantumCircuit, execute, Aer\n",
    "from qiskit.circuit import QuantumRegister, Qubit, Gate, ClassicalRegister\n",
    "from qiskit.aqua.components.oracles import Oracle, TruthTableOracle\n",
    "from qiskit.quantum_info import Statevector\n",
    "\n",
    "# Transpiling stuff\n",
    "from qiskit.compiler import transpile\n",
    "from qiskit.transpiler import PassManager\n",
    "from qiskit.transpiler.passes import Unroller\n",
    "from qiskit.transpiler.passes import BasicSwap, LookaheadSwap, StochasticSwap\n",
    "from qiskit.transpiler import CouplingMap, Layout\n",
    "\n",
    "\n",
    "#import utils\n",
    "from collections import OrderedDict\n",
    "\n",
    "import math\n",
    "import numpy as np\n",
    "from sympy.combinatorics.graycode import GrayCode, bin_to_gray, gray_to_bin\n",
    "\n",
    "# Import general libraries (needed for functions)\n",
    "import time\n",
    "\n",
    "# Import Qiskit classes\n",
    "import qiskit\n",
    "from qiskit.providers.aer import noise\n",
    "from qiskit.tools.visualization import plot_histogram\n",
    "\n",
    "from qiskit.test.mock import FakeYorktown #, FakeCasablanca\n",
    "\n",
    "# Import measurement calibration functions\n",
    "from qiskit.ignis.mitigation.measurement import (complete_meas_cal, tensored_meas_cal,\n",
    "                                                 CompleteMeasFitter, TensoredMeasFitter)"
   ]
  },
  {
   "cell_type": "code",
   "execution_count": 2,
   "id": "fdd05cd9-9460-453c-9878-827ad0f439ab",
   "metadata": {},
   "outputs": [
    {
     "name": "stdout",
     "output_type": "stream",
     "text": [
      "<AccountProvider for IBMQ(hub='ibm-q-research', group='madrid-1', project='main')>\n",
      "ibmq_qasm_simulator\n",
      "ibmqx2\n",
      "ibmq_armonk\n",
      "ibmq_santiago\n",
      "ibmq_bogota\n",
      "ibmq_casablanca\n",
      "ibmq_lima\n",
      "ibmq_belem\n",
      "ibmq_quito\n",
      "simulator_statevector\n",
      "simulator_mps\n",
      "simulator_extended_stabilizer\n",
      "simulator_stabilizer\n",
      "ibmq_jakarta\n",
      "ibmq_manila\n",
      "ibm_lagos\n"
     ]
    }
   ],
   "source": [
    "number_W = 2\n",
    "betas = [0.1,1]\n",
    "\n",
    "provider = IBMQ.get_provider(hub='ibm-q-research', group='madrid-1', project='main') \n",
    "print(provider)\n",
    "backends = provider.backends()\n",
    "for backend in backends:\n",
    "    print(backend.name())\n",
    "    \n",
    "backend = provider.backends(name = 'ibmq_casablanca')[0]\n",
    "#backend = provider.backends(name = 'ibmq_casablanca')[0]\n",
    "properties = backend.properties() \n",
    "coupling_map = backend.configuration().coupling_map"
   ]
  },
  {
   "cell_type": "markdown",
   "id": "280ed28b-3862-406b-a7d3-8534de4da9f8",
   "metadata": {},
   "source": [
    "First thing we need is to load the differences of energies, that I call deltas"
   ]
  },
  {
   "cell_type": "code",
   "execution_count": 3,
   "id": "5e46cde1-21fc-4fa8-8f5f-88f7c972dbc3",
   "metadata": {},
   "outputs": [
    {
     "name": "stdout",
     "output_type": "stream",
     "text": [
      "16\n",
      "corrected ------------------\n",
      "000 0.27042123529724904\n",
      "001 26.032737333542684\n",
      "010 0.24282032166763656\n",
      "011 -26.032737333542684\n",
      "100 -0.27042123529724904\n",
      "101 26.00513641991307\n",
      "110 -0.24282032166763656\n",
      "111 -26.00513641991307\n"
     ]
    }
   ],
   "source": [
    "import json\n",
    "with open('delta_energies_glycylglycine_1_hardware.json') as json_file:\n",
    "    data = json.load(json_file)\n",
    "\n",
    "deltas_dictionary = data['deltas']\n",
    "deltas_dictionary = OrderedDict(sorted(deltas_dictionary.items()))\n",
    "print(len(deltas_dictionary))\n",
    "deltas = {}\n",
    "for (key,value) in deltas_dictionary.items():\n",
    "    deltas[key[:3]] = value\n",
    "    #print(key,value)\n",
    "print('corrected ------------------')\n",
    "for (key,value) in deltas.items():\n",
    "    print(key, value)"
   ]
  },
  {
   "cell_type": "markdown",
   "id": "bfb5f059-bc07-4ebe-a7d4-a06df128bdca",
   "metadata": {},
   "source": [
    "Then, we need to compute the acceptance probabilities (and amplitudes) from such deltas"
   ]
  },
  {
   "cell_type": "code",
   "execution_count": 4,
   "id": "61621e3b-3564-44e8-a6fa-430ed00d5599",
   "metadata": {},
   "outputs": [],
   "source": [
    "def calculate_angles(deltas_dictionary, beta = 1, scaling_factor = 1000):\n",
    "    \n",
    "    exact_angles = {}\n",
    "\n",
    "    for key in deltas_dictionary.keys():\n",
    "\n",
    "        if deltas_dictionary[key] >= 0:\n",
    "\n",
    "            if scaling_factor == -1:\n",
    "                probability = math.exp(-beta * deltas_dictionary[key])\n",
    "            else:\n",
    "                probability = math.exp(-scaling_factor* beta * deltas_dictionary[key])\n",
    "        else: \n",
    "            probability = 1\n",
    "        # Instead of encoding the angle corresponding to the probability, we will encode the angle theta such that sin^2(pi/2 - theta) = probability.\n",
    "        # That way 1 -> 000, but if probability is 0 there is some small probability of acceptance\n",
    "\n",
    "        # Instead of probability save angles so rotations are easier to perform afterwards sqrt(p) = sin(pi/2-theta/2).\n",
    "        # The theta/2 is because if you input theta, qiskits rotates theta/2. Also normalised (divided between pi the result)\n",
    "        exact_angles[key] = math.pi - 2 * math.asin(math.sqrt(probability))\n",
    "\n",
    "\n",
    "    # Order angles by key\n",
    "    exact_angles = OrderedDict(sorted(exact_angles.items()))\n",
    "\n",
    "    return exact_angles"
   ]
  },
  {
   "cell_type": "markdown",
   "id": "29b5102c-31ca-4311-9d0b-7bc4f3bdb7c7",
   "metadata": {},
   "source": [
    "The hard part to compute is the oracle that performs the coin rotations. The dumb way of doing it is"
   ]
  },
  {
   "cell_type": "code",
   "execution_count": 5,
   "id": "1d3d96d7-74da-4604-843d-2fb44ed1626b",
   "metadata": {},
   "outputs": [
    {
     "name": "stdout",
     "output_type": "stream",
     "text": [
      "OrderedDict([('000', 1.0167694425474774), ('001', 3.1415882063258103), ('010', 0.9657199604737436), ('011', 0.0), ('100', 0.0), ('101', 3.1415881445260845), ('110', 0.0), ('111', 0.0)])\n"
     ]
    }
   ],
   "source": [
    "angles = calculate_angles(deltas_dictionary = deltas, beta = 1, scaling_factor = 1)\n",
    "print(angles)\n",
    "\n",
    "def hardware_GG_1_coin_flip_inefficient(circuit,coin,move_id,angle_psi,angle_phi,angles,inverse, iteration,beta):\n",
    "    ''' Applies the controlled rotation to the target coin. Substitutes the oracle'''\n",
    "    if inverse == 1:\n",
    "        circuit.x(coin)\n",
    "    \n",
    "    if angles['111'] > .01:\n",
    "        circuit.mcrx(theta = -inverse * angles['111'], q_controls = [angle_phi[0],angle_psi[0],move_id[0]], q_target = coin[0], use_basis_gates=False)\n",
    "    circuit.x(move_id)\n",
    "    \n",
    "    if angles['110'] > .01:\n",
    "        circuit.mcrx(theta = -inverse * angles['110'], q_controls = [angle_phi[0],angle_psi[0],move_id[0]], q_target = coin[0], use_basis_gates=False)\n",
    "    circuit.x(angle_psi)\n",
    "    \n",
    "    if angles['100'] > .01:\n",
    "        circuit.mcrx(theta = -inverse * angles['100'], q_controls = [angle_phi[0],angle_psi[0],move_id[0]], q_target = coin[0], use_basis_gates=False)\n",
    "    circuit.x(move_id)\n",
    "    \n",
    "    if angles['101'] > .01:\n",
    "        circuit.mcrx(theta = -inverse * angles['101'], q_controls = [angle_phi[0],angle_psi[0],move_id[0]], q_target = coin[0], use_basis_gates=False)\n",
    "    circuit.x(angle_phi)\n",
    "    \n",
    "    if angles['001'] > .01:\n",
    "        circuit.mcrx(theta = -inverse * angles['001'], q_controls = [angle_phi[0],angle_psi[0],move_id[0]], q_target = coin[0], use_basis_gates=False)\n",
    "    circuit.x(move_id)\n",
    "    \n",
    "    if angles['000'] > .01:\n",
    "        circuit.mcrx(theta = -inverse * angles['000'], q_controls = [angle_phi[0],angle_psi[0],move_id[0]], q_target = coin[0], use_basis_gates=False)\n",
    "    circuit.x(angle_psi)\n",
    "    \n",
    "    if angles['010'] > .01:\n",
    "        circuit.mcrx(theta = -inverse * angles['010'], q_controls = [angle_phi[0],angle_psi[0],move_id[0]], q_target = coin[0], use_basis_gates=False)\n",
    "    circuit.x(move_id)\n",
    "    \n",
    "    if angles['011'] > .01:\n",
    "        circuit.mcrx(theta = -inverse * angles['011'], q_controls = [angle_phi[0],angle_psi[0],move_id[0]], q_target = coin[0], use_basis_gates=False) \n",
    "    circuit.x(angle_phi)\n",
    "    \n",
    "    if inverse == -1:\n",
    "        circuit.x(coin)"
   ]
  },
  {
   "cell_type": "markdown",
   "id": "0c177d3d-5f33-409a-a1c1-125a181097c0",
   "metadata": {},
   "source": [
    "But this is ineficient! We can make it more efficient by"
   ]
  },
  {
   "cell_type": "code",
   "execution_count": 6,
   "id": "a4901074-b1ea-49a3-b924-0a4fd521144d",
   "metadata": {},
   "outputs": [
    {
     "name": "stdout",
     "output_type": "stream",
     "text": [
      "OrderedDict([('000', 3.1415899688173488), ('001', 3.141592653589793), ('010', 3.141581981395924), ('011', 0.0), ('100', 0.0), ('101', 3.141592653589793), ('110', 0.0), ('111', 0.0)])\n"
     ]
    }
   ],
   "source": [
    "angles = calculate_angles(deltas_dictionary = deltas, beta = .1)\n",
    "print(angles)\n",
    "def hardware_GG_1_coin_flip(circuit,coin,move_id,angle_psi,angle_phi,angles,inv,iteration,beta):\n",
    "    '''Warning! This only works for GG 1 in hardware mode. Do not use elsewhere!'''\n",
    "    # First we have to identify the non-zero angles. For the rest we accept with probability 1\n",
    "    circuit.x(coin)\n",
    "    '''\n",
    "    Since the angles from 001 and 101 ~= 2.59; and those from 010 and 000 ~= 0.32 (when beta = .1, \n",
    "    but they'll always be similar nevertheless), we will perform those rotations together\n",
    "    '''\n",
    "    non_zero_angles = {}\n",
    "    non_zero_angles['0x0'] = (angles['000']+angles['010'])/2\n",
    "    non_zero_angles['x01'] = (angles['001']+angles['101'])/2\n",
    "    \n",
    "    # Let us first perform the first\n",
    "    circuit.x(angle_phi)\n",
    "    circuit.x(move_id)\n",
    "    circuit.mcrx(theta = -inv*non_zero_angles['0x0'],\n",
    "                 q_controls = [move_id[0],angle_phi[0]], q_target = coin[0], use_basis_gates=True)\n",
    "    circuit.x(angle_phi)\n",
    "    circuit.x(move_id)\n",
    "    \n",
    "    # Let us perform the second\n",
    "    circuit.x(angle_psi)\n",
    "    circuit.mcrx(theta = -inv*non_zero_angles['x01'],\n",
    "                 q_controls = [move_id[0],angle_psi[0]], q_target = coin[0], use_basis_gates=True)\n",
    "    circuit.x(angle_psi)"
   ]
  },
  {
   "cell_type": "markdown",
   "id": "0c0d1c1e-9500-414c-a400-1acf842e8691",
   "metadata": {},
   "source": [
    "Then we define one step"
   ]
  },
  {
   "cell_type": "code",
   "execution_count": 7,
   "id": "c30b52df-2f32-4d33-879b-34c5f66a85eb",
   "metadata": {},
   "outputs": [],
   "source": [
    "def W_step(qc,coin,move_id,angle_psi,angle_phi,angles,iteration,beta): \n",
    "    # Perform the preparation of possible moves----\n",
    "    qc.h(move_id)\n",
    "\n",
    "    # Prepare the Boltzmann coin ------------------\n",
    "    hardware_GG_1_coin_flip(qc,coin,move_id,angle_psi,angle_phi,angles,inv = 1,iteration=iteration,beta = beta)\n",
    "    \n",
    "    # Perform move ---------------------------------\n",
    "    # For the second angle\n",
    "    qc.ccx(coin,move_id,angle_psi)\n",
    "\n",
    "    # For the first angle\n",
    "    qc.x(move_id)\n",
    "    qc.ccx(coin,move_id,angle_phi)\n",
    "    qc.x(move_id)\n",
    "\n",
    "    if iteration == 0:\n",
    "        # Unprepare the Boltzmann coin--------------------\n",
    "        hardware_GG_1_coin_flip(qc,coin,move_id,angle_psi,angle_phi,angles,inv = -1,iteration=0,beta = beta)\n",
    "\n",
    "        # Perform the preparation of possible moves ----\n",
    "        qc.h(move_id)\n",
    "\n",
    "        #Reflection -------------------------------------\n",
    "        qc.x(move_id)\n",
    "        qc.x(coin)\n",
    "\n",
    "        # Perform a multicontrolled Z\n",
    "        qc.cz(move_id,coin)\n",
    "\n",
    "        qc.x(move_id)\n",
    "        qc.x(coin)"
   ]
  },
  {
   "cell_type": "markdown",
   "id": "95cc2b70-db97-4341-a413-f7af14c53aa9",
   "metadata": {},
   "source": [
    "And the full circuit"
   ]
  },
  {
   "cell_type": "code",
   "execution_count": 8,
   "id": "cd6aaef8-90ab-4193-8c91-da9f81687b3b",
   "metadata": {},
   "outputs": [],
   "source": [
    "def generate_circ(betas = [0.1,1]):\n",
    "    \n",
    "    move_id  = QuantumRegister(1)\n",
    "    angle_phi = QuantumRegister(1)\n",
    "    angle_psi = QuantumRegister(1)\n",
    "    coin = QuantumRegister(1)\n",
    "    c_reg = ClassicalRegister(2)\n",
    "    qc = QuantumCircuit(coin,move_id,angle_psi,angle_phi,c_reg)\n",
    "\n",
    "    #Circuit ----------\n",
    "    qc.h(angle_phi)\n",
    "    qc.h(angle_psi)\n",
    "    for i,beta in zip(range(number_W),betas):\n",
    "        angles = calculate_angles(deltas_dictionary = deltas, beta = beta)\n",
    "        W_step(qc,coin,move_id,angle_psi,angle_phi,angles,i,beta = beta)\n",
    "\n",
    "    # Measure\n",
    "    qc.measure(angle_phi[0], c_reg[1])\n",
    "    qc.measure(angle_psi[0], c_reg[0])\n",
    "\n",
    "    # Transpiling -------\n",
    "\n",
    "    #layout = {5: angle_phi[0], 6: angle_psi[0], 4: move_id[0], 5: coin[0]}\n",
    "    layout = {2: angle_psi[0], 3: angle_phi[0], 1: coin[0], 0: move_id[0]} \n",
    "    qc = transpile(qc, backend = backend, optimization_level=3, \n",
    "                   initial_layout=layout, basis_gates = ['u1', 'u2', 'u3', 'cx'], routing_method = 'lookahead')\n",
    "    print('After optimization--------')\n",
    "    print('gates = ', qc.count_ops())\n",
    "    print('depth = ', qc.depth())\n",
    "    return qc"
   ]
  },
  {
   "cell_type": "markdown",
   "id": "c7cdf1a8-4996-43f7-8ac3-44b85cc1862b",
   "metadata": {},
   "source": [
    "We can define a noiseless execution"
   ]
  },
  {
   "cell_type": "code",
   "execution_count": 9,
   "id": "b719cb81-220f-47ea-a5e4-2a4c19af9c8b",
   "metadata": {},
   "outputs": [
    {
     "data": {
      "image/png": "[encoded data removed]",
      "text/plain": [
       "<Figure size 504x360 with 1 Axes>"
      ]
     },
     "execution_count": 9,
     "metadata": {},
     "output_type": "execute_result"
    }
   ],
   "source": [
    "def exe_noiseless(betas = betas):\n",
    "    \n",
    "    move_id  = QuantumRegister(1, name = 'move_id')\n",
    "    angle_phi = QuantumRegister(1, name = 'angle_phi')\n",
    "    angle_psi = QuantumRegister(1, name = 'angle_psi')\n",
    "    coin = QuantumRegister(1, name = 'coin')\n",
    "    c_reg = ClassicalRegister(4)\n",
    "    aerqc = QuantumCircuit(coin,move_id,angle_psi,angle_phi,c_reg)\n",
    "\n",
    "    #Circuit ----------\n",
    "    aerqc.h(angle_phi)\n",
    "    aerqc.h(angle_psi)\n",
    "    for i,beta in zip(range(number_W),betas):\n",
    "        angles = calculate_angles(deltas_dictionary = deltas, beta = beta)\n",
    "        W_step(aerqc,coin,move_id,angle_psi,angle_phi,angles,i,beta)\n",
    "\n",
    "    # Measure\n",
    "    aerbackend = Aer.get_backend('statevector_simulator')\n",
    "    backend_options = {\"method\" : \"statevector\"}\n",
    "    experiment = execute(aerqc, aerbackend, backend_options=backend_options)\n",
    "    state_vector = Statevector(experiment.result().get_statevector(aerqc))\n",
    "\n",
    "    probabilities = state_vector.probabilities([3,2])\n",
    "    noiseless_counts = {}\n",
    "    noiseless_counts['00'] = float(probabilities[0])\n",
    "    noiseless_counts['01'] = float(probabilities[1])\n",
    "    noiseless_counts['10'] = float(probabilities[2])\n",
    "    noiseless_counts['11'] = float(probabilities[3])\n",
    "\n",
    "    return noiseless_counts\n",
    "    #plot_histogram(noiseless_counts)\n",
    "noiseless_counts = exe_noiseless()\n",
    "plot_histogram(noiseless_counts)"
   ]
  },
  {
   "cell_type": "markdown",
   "id": "42809f67-3dec-492a-9061-5e125c63a520",
   "metadata": {},
   "source": [
    "We can run it in real hardware using"
   ]
  },
  {
   "cell_type": "code",
   "execution_count": null,
   "id": "63790205-3e87-4642-a58f-82dd9725ceac",
   "metadata": {},
   "outputs": [
    {
     "name": "stdout",
     "output_type": "stream",
     "text": [
      "After optimization--------\n",
      "gates =  OrderedDict([('cx', 105), ('u3', 65), ('u2', 31), ('u1', 19), ('measure', 2), ('barrier', 1)])\n",
      "depth =  174\n"
     ]
    }
   ],
   "source": [
    "#beta = 1e-10\n",
    "qc = generate_circ(betas = betas)\n",
    "n_iterations = 1\n",
    "\n",
    "for i in range(n_iterations):\n",
    "    #print('iteration =',i)\n",
    "    counts= execute(qc, backend, shots=8192).result().get_counts()\n",
    "    raw_counts = [counts[i] for i in ['00','01','10','11']]\n",
    "    \n",
    "noiseless = exe_noiseless(betas = betas)\n",
    "noiseless_count = [noiseless[i] for i in ['00','01','10','11']]\n",
    "\n",
    "#print(np.average(raw_counts['beta='+str(beta)]))\n",
    "#print(np.std(raw_counts['beta='+str(beta)]))\n",
    "plot = plot_histogram([raw_counts,noiseless_counts], legend=['raw','noiseless'], color = ['red','green'])"
   ]
  },
  {
   "cell_type": "markdown",
   "id": "f5166d1f-f896-40b6-abee-a90db278c678",
   "metadata": {},
   "source": [
    "and run it with"
   ]
  },
  {
   "cell_type": "code",
   "execution_count": null,
   "id": "2cc692c0-da73-4f8a-bee6-e6dee924d13e",
   "metadata": {},
   "outputs": [],
   "source": [
    "plot"
   ]
  },
  {
   "cell_type": "code",
   "execution_count": null,
   "id": "283ed31a-ecc5-4b83-96f8-7fcb46302422",
   "metadata": {},
   "outputs": [],
   "source": []
  }
 ],
 "metadata": {
  "kernelspec": {
   "display_name": "Qiskit v0.31.0 (ipykernel)",
   "language": "python",
   "name": "python3"
  },
  "language_info": {
   "codemirror_mode": {
    "name": "ipython",
    "version": 3
   },
   "file_extension": ".py",
   "mimetype": "text/x-python",
   "name": "python",
   "nbconvert_exporter": "python",
   "pygments_lexer": "ipython3",
   "version": "3.8.10"
  },
  "widgets": {
   "application/vnd.jupyter.widget-state+json": {
    "state": {},
    "version_major": 2,
    "version_minor": 0
   }
  }
 },
 "nbformat": 4,
 "nbformat_minor": 5
}
